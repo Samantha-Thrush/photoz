{
 "cells": [
  {
   "cell_type": "markdown",
   "metadata": {},
   "source": [
    "## Creating the X and y arrays for cnn.ipynb or similar code ##\n",
    "\n",
    "After running my versions of either fetch_sdss.ipynb or fetch_sdss.py, you will need to create the X and y arrays of the subsequent data.  You will need to specify the folder that contains the .npy files created in the fetch_sdss code (by default, I will assume that it is in the folder named \"result\", as was specified in fetch_sdss).  Once this is specified, the files will be iterated over, the redshift information will be extracted from the .npy file names and put into the 'y' array, and the actual numpy files (image information) will be copied into the 'X' array.  \n",
    "\n",
    "The resulting X and y arrays will be located in a different directory named \"arrays\" that is **NOT** inside of \"result\".\n",
    "#### Importing needed libraries ####"
   ]
  },
  {
   "cell_type": "code",
   "execution_count": 1,
   "metadata": {
    "collapsed": true
   },
   "outputs": [],
   "source": [
    "import os\n",
    "import numpy as np\n",
    "import sys\n",
    "from sklearn.cross_validation import train_test_split"
   ]
  },
  {
   "cell_type": "markdown",
   "metadata": {},
   "source": [
    "#### Importing future to make up for any python2/3 discrepancies ####\n",
    "This *shouldn't* be an issue."
   ]
  },
  {
   "cell_type": "code",
   "execution_count": 2,
   "metadata": {
    "collapsed": true
   },
   "outputs": [],
   "source": [
    "from __future__ import absolute_import\n",
    "from __future__ import division\n",
    "from __future__ import print_function\n",
    "from __future__ import unicode_literals"
   ]
  },
  {
   "cell_type": "markdown",
   "metadata": {},
   "source": [
    "### *SPECIFY THE IMAGE AND ARRAY PATH HERE* ###"
   ]
  },
  {
   "cell_type": "code",
   "execution_count": 3,
   "metadata": {
    "collapsed": true
   },
   "outputs": [],
   "source": [
    "path = \"../data/results/\"\n",
    "savedir = \"../data/split/\"\n",
    "traindir = \"../data/train/\""
   ]
  },
  {
   "cell_type": "markdown",
   "metadata": {},
   "source": [
    "### Get the list of all of the files you need ###"
   ]
  },
  {
   "cell_type": "code",
   "execution_count": 4,
   "metadata": {
    "collapsed": false
   },
   "outputs": [
    {
     "name": "stdout",
     "output_type": "stream",
     "text": [
      "45722\n"
     ]
    }
   ],
   "source": [
    "npfiles = os.listdir(path)\n",
    "print(len(npfiles))"
   ]
  },
  {
   "cell_type": "markdown",
   "metadata": {},
   "source": [
    "### Initializing the numpy arrays ###"
   ]
  },
  {
   "cell_type": "code",
   "execution_count": 5,
   "metadata": {
    "collapsed": false
   },
   "outputs": [],
   "source": [
    "X = np.zeros((len(npfiles), 5, 48, 48))\n",
    "y = np.zeros((len(npfiles), 1))"
   ]
  },
  {
   "cell_type": "markdown",
   "metadata": {},
   "source": [
    "### Filling the arrays ###\n",
    "First all of the galaxy images are downloaded to the notebook, loaded into the numpy array made above, and the redshift information is extracted from the file name.  These two HUGE arrays are then split into 200 (or so) roughly equal arrays.  These sub-arrays are then run through the train_test_split from sckit.cross_validation.  This creates 4x the original sub arrays (800 in this case).  Each of these new sub-arrays is then saved via numpy.save so that it can be stitched back together when you want to do deep learning on it over in cnn.ipynb."
   ]
  },
  {
   "cell_type": "code",
   "execution_count": 6,
   "metadata": {
    "collapsed": true
   },
   "outputs": [],
   "source": [
    "s = 0\n",
    "for file in npfiles:\n",
    "    image = np.load(path + file)\n",
    "    X[s,:,:,:] = image[:,:,:]\n",
    "    num = file[:10]\n",
    "    y[s] = float(num)\n",
    "    s+=1     \n",
    "    "
   ]
  },
  {
   "cell_type": "markdown",
   "metadata": {},
   "source": [
    "### Specify the number of split arrays here ###\n",
    "The larger the corpus, the bigger the nubmer should be (currently 200)."
   ]
  },
  {
   "cell_type": "code",
   "execution_count": 7,
   "metadata": {
    "collapsed": false
   },
   "outputs": [],
   "source": [
    "#now we split the array\n",
    "X_split =np.array_split(X,200)\n",
    "y_split = np.array_split(y,200)\n",
    "\n",
    "# Freeing up memory\n",
    "%xdel X\n",
    "%xdel y\n",
    "%xdel image\n",
    "%xdel file"
   ]
  },
  {
   "cell_type": "code",
   "execution_count": 8,
   "metadata": {
    "collapsed": false
   },
   "outputs": [
    {
     "name": "stdout",
     "output_type": "stream",
     "text": [
      "200\n",
      "(229, 5, 48, 48)\n"
     ]
    }
   ],
   "source": [
    "print(len(X_split))\n",
    "print(X_split[0].shape)"
   ]
  },
  {
   "cell_type": "code",
   "execution_count": 9,
   "metadata": {
    "collapsed": false
   },
   "outputs": [
    {
     "name": "stdout",
     "output_type": "stream",
     "text": [
      "0\n",
      "1\n",
      "2\n",
      "3\n",
      "4\n",
      "5\n",
      "6\n",
      "7\n",
      "8\n",
      "9\n",
      "10\n",
      "11\n",
      "12\n",
      "13\n",
      "14\n",
      "15\n",
      "16\n",
      "17\n",
      "18\n",
      "19\n",
      "20\n",
      "21\n",
      "22\n",
      "23\n",
      "24\n",
      "25\n",
      "26\n",
      "27\n",
      "28\n",
      "29\n",
      "30\n",
      "31\n",
      "32\n",
      "33\n",
      "34\n",
      "35\n",
      "36\n",
      "37\n",
      "38\n",
      "39\n",
      "40\n",
      "41\n",
      "42\n",
      "43\n",
      "44\n",
      "45\n",
      "46\n",
      "47\n",
      "48\n",
      "49\n",
      "50\n",
      "51\n",
      "52\n",
      "53\n",
      "54\n",
      "55\n",
      "56\n",
      "57\n",
      "58\n",
      "59\n",
      "60\n",
      "61\n",
      "62\n",
      "63\n",
      "64\n",
      "65\n",
      "66\n",
      "67\n",
      "68\n",
      "69\n",
      "70\n",
      "71\n",
      "72\n",
      "73\n",
      "74\n",
      "75\n",
      "76\n",
      "77\n",
      "78\n",
      "79\n",
      "80\n",
      "81\n",
      "82\n",
      "83\n",
      "84\n",
      "85\n",
      "86\n",
      "87\n",
      "88\n",
      "89\n",
      "90\n",
      "91\n",
      "92\n",
      "93\n",
      "94\n",
      "95\n",
      "96\n",
      "97\n",
      "98\n",
      "99\n",
      "100\n",
      "101\n",
      "102\n",
      "103\n",
      "104\n",
      "105\n",
      "106\n",
      "107\n",
      "108\n",
      "109\n",
      "110\n",
      "111\n",
      "112\n",
      "113\n",
      "114\n",
      "115\n",
      "116\n",
      "117\n",
      "118\n",
      "119\n",
      "120\n",
      "121\n",
      "122\n",
      "123\n",
      "124\n",
      "125\n",
      "126\n",
      "127\n",
      "128\n",
      "129\n",
      "130\n",
      "131\n",
      "132\n",
      "133\n",
      "134\n",
      "135\n",
      "136\n",
      "137\n",
      "138\n",
      "139\n",
      "140\n",
      "141\n",
      "142\n",
      "143\n",
      "144\n",
      "145\n",
      "146\n",
      "147\n",
      "148\n",
      "149\n",
      "150\n",
      "151\n",
      "152\n",
      "153\n",
      "154\n",
      "155\n",
      "156\n",
      "157\n",
      "158\n",
      "159\n",
      "160\n",
      "161\n",
      "162\n",
      "163\n",
      "164\n",
      "165\n",
      "166\n",
      "167\n",
      "168\n",
      "169\n",
      "170\n",
      "171\n",
      "172\n",
      "173\n",
      "174\n",
      "175\n",
      "176\n",
      "177\n",
      "178\n",
      "179\n",
      "180\n",
      "181\n",
      "182\n",
      "183\n",
      "184\n",
      "185\n",
      "186\n",
      "187\n",
      "188\n",
      "189\n",
      "190\n",
      "191\n",
      "192\n",
      "193\n",
      "194\n",
      "195\n",
      "196\n",
      "197\n",
      "198\n",
      "199\n"
     ]
    }
   ],
   "source": [
    "t = 0\n",
    "while(t < len(X_split)):\n",
    "    #Here we make the original arrays that we will concatenate on to later\n",
    "    X_train, X_test, y_train, y_test = train_test_split(X_split[t], y_split[t], test_size=0.2, random_state=24)\n",
    "        \n",
    "    np.save(savedir+ \"X_train\" +str(t), X_train)\n",
    "    np.save(savedir+ \"X_test\"  +str(t), X_test)\n",
    "    np.save(savedir+ \"y_train\" +str(t), y_train)\n",
    "    np.save(savedir+ \"y_test\"  +str(t), y_test)\n",
    "        \n",
    "    print(t)\n",
    "        \n",
    "    # Freeing up memory\n",
    "    %xdel X_train\n",
    "    %xdel X_test\n",
    "    %xdel y_train\n",
    "    %xdel y_test\n",
    "    t+=1"
   ]
  },
  {
   "cell_type": "code",
   "execution_count": 10,
   "metadata": {
    "collapsed": true
   },
   "outputs": [],
   "source": [
    "%xdel X_split\n",
    "%xdel y_split"
   ]
  },
  {
   "cell_type": "code",
   "execution_count": 11,
   "metadata": {
    "collapsed": false
   },
   "outputs": [
    {
     "name": "stdout",
     "output_type": "stream",
     "text": [
      "800\n",
      "['y_test171.npy', 'y_test11.npy', 'X_train186.npy', 'X_train29.npy', 'y_test1.npy', 'X_train111.npy', 'y_test104.npy', 'X_test55.npy', 'y_test146.npy', 'X_train132.npy', 'y_train172.npy', 'X_test0.npy', 'y_test101.npy', 'X_test151.npy', 'X_train83.npy', 'y_test37.npy', 'y_test108.npy', 'y_train65.npy', 'y_train156.npy', 'y_test83.npy', 'X_test122.npy', 'X_train75.npy', 'X_train14.npy', 'y_train120.npy', 'y_test13.npy', 'y_test159.npy', 'y_train99.npy', 'X_test128.npy', 'y_test24.npy', 'X_test77.npy', 'y_test138.npy', 'X_test171.npy', 'y_test124.npy', 'X_train33.npy', 'y_train83.npy', 'X_test114.npy', 'y_test190.npy', 'X_test45.npy', 'X_train99.npy', 'y_test144.npy', 'X_train159.npy', 'X_train45.npy', 'X_train3.npy', 'y_train150.npy', 'X_test145.npy', 'X_train27.npy', 'y_train113.npy', 'X_test192.npy', 'X_test179.npy', 'X_test170.npy', 'y_test6.npy', 'y_test184.npy', 'X_train1.npy', 'y_train57.npy', 'y_test53.npy', 'X_test87.npy', 'y_train169.npy', 'X_test5.npy', 'X_train69.npy', 'X_train121.npy', 'X_test84.npy', 'X_train165.npy', 'X_train38.npy', 'y_train112.npy', 'X_test126.npy', 'y_train18.npy', 'X_test86.npy', 'y_train94.npy', 'y_train166.npy', 'X_test4.npy', 'X_train86.npy', 'y_test76.npy', 'y_train36.npy', 'X_train85.npy', 'X_test181.npy', 'X_test189.npy', 'X_test125.npy', 'y_test61.npy', 'X_train114.npy', 'y_train59.npy', 'X_test193.npy', 'X_train172.npy', 'X_test152.npy', 'y_train151.npy', 'X_test7.npy', 'X_train73.npy', 'y_train27.npy', 'X_test82.npy', 'X_test139.npy', 'X_train158.npy', 'y_test84.npy', 'X_train161.npy', 'y_test125.npy', 'X_train0.npy', 'X_test19.npy', 'X_train183.npy', 'y_test185.npy', 'y_train98.npy', 'X_train76.npy', 'y_train127.npy', 'y_test35.npy', 'X_train25.npy', 'X_train50.npy', 'y_train52.npy', 'X_test58.npy', 'X_train4.npy', 'X_train148.npy', 'X_train49.npy', 'y_test193.npy', 'X_train190.npy', 'X_train103.npy', 'X_test67.npy', 'X_train19.npy', 'y_test26.npy', 'y_train124.npy', 'X_test150.npy', 'X_train177.npy', 'y_test191.npy', 'X_test3.npy', 'y_test36.npy', 'y_test27.npy', 'y_test28.npy', 'X_train166.npy', 'y_test135.npy', 'y_test153.npy', 'y_test65.npy', 'y_test180.npy', 'X_train95.npy', 'X_test71.npy', 'y_train122.npy', 'X_test13.npy', 'y_train135.npy', 'y_test137.npy', 'X_test12.npy', 'y_test41.npy', 'X_test39.npy', 'X_train79.npy', 'X_train16.npy', 'y_train162.npy', 'y_train63.npy', 'y_test165.npy', 'y_train17.npy', 'y_train117.npy', 'y_train35.npy', 'X_test144.npy', 'X_train21.npy', 'X_test140.npy', 'X_train199.npy', 'X_train191.npy', 'X_test30.npy', 'X_test16.npy', 'X_train179.npy', 'X_train116.npy', 'y_train30.npy', 'y_test120.npy', 'X_train61.npy', 'y_test161.npy', 'y_test148.npy', 'X_train180.npy', 'X_train72.npy', 'X_test61.npy', 'X_test59.npy', 'X_train81.npy', 'y_test50.npy', 'X_test9.npy', 'X_test70.npy', 'X_train18.npy', 'y_train191.npy', 'X_test23.npy', 'y_train7.npy', 'X_train156.npy', 'X_test11.npy', 'y_train74.npy', 'X_test33.npy', 'X_train185.npy', 'X_test76.npy', 'X_train5.npy', 'y_test7.npy', 'X_train66.npy', 'y_test30.npy', 'y_test176.npy', 'y_test143.npy', 'y_test157.npy', 'X_train112.npy', 'X_test1.npy', 'y_train1.npy', 'y_test96.npy', 'y_test39.npy', 'y_train141.npy', 'y_test169.npy', 'y_train5.npy', 'y_train174.npy', 'y_train81.npy', 'X_train124.npy', 'X_train54.npy', 'y_test20.npy', 'y_train111.npy', 'y_test163.npy', 'y_train153.npy', 'X_train150.npy', 'y_test23.npy', 'y_train164.npy', 'X_test161.npy', 'X_test52.npy', 'X_test24.npy', 'X_train108.npy', 'y_test130.npy', 'X_test172.npy', 'X_test81.npy', 'X_train119.npy', 'X_test116.npy', 'y_train175.npy', 'y_test100.npy', 'X_test199.npy', 'X_train146.npy', 'X_train195.npy', 'y_train186.npy', 'y_train104.npy', 'y_train116.npy', 'y_test117.npy', 'X_test80.npy', 'y_test46.npy', 'y_train132.npy', 'X_train106.npy', 'y_train154.npy', 'y_train13.npy', 'y_test188.npy', 'y_test150.npy', 'X_train164.npy', 'X_test143.npy', 'y_test134.npy', 'y_test140.npy', 'X_train71.npy', 'y_train195.npy', 'X_test6.npy', 'y_train31.npy', 'X_train171.npy', 'y_train15.npy', 'y_test129.npy', 'y_train67.npy', 'y_train2.npy', 'X_test160.npy', 'y_train106.npy', 'y_train140.npy', 'y_test92.npy', 'y_train88.npy', 'y_test80.npy', 'y_test172.npy', 'y_test122.npy', 'X_train154.npy', 'X_train162.npy', 'X_test148.npy', 'y_test56.npy', 'y_train179.npy', 'X_test89.npy', 'y_test14.npy', 'y_train64.npy', 'X_test159.npy', 'y_test142.npy', 'X_test28.npy', 'y_train91.npy', 'y_test179.npy', 'y_train108.npy', 'y_train139.npy', 'y_train188.npy', 'y_train44.npy', 'X_test137.npy', 'y_test68.npy', 'y_test139.npy', 'y_train138.npy', 'X_train193.npy', 'y_train109.npy', 'y_train102.npy', 'X_test156.npy', 'y_test59.npy', 'X_test8.npy', 'y_test10.npy', 'X_test38.npy', 'y_train129.npy', 'y_test44.npy', 'y_train69.npy', 'X_train2.npy', 'X_test66.npy', 'X_train198.npy', 'y_test189.npy', 'y_test34.npy', 'X_test103.npy', 'y_train193.npy', 'y_test18.npy', 'X_test165.npy', 'y_train78.npy', 'X_train133.npy', 'X_test176.npy', 'y_train62.npy', 'X_test146.npy', 'X_test31.npy', 'X_train90.npy', 'y_test31.npy', 'X_train60.npy', 'y_test54.npy', 'X_train157.npy', 'X_test98.npy', 'X_train42.npy', 'X_train74.npy', 'y_train92.npy', 'y_train42.npy', 'y_test175.npy', 'y_train167.npy', 'y_train87.npy', 'X_test104.npy', 'y_test47.npy', 'X_test92.npy', 'y_test66.npy', 'X_train151.npy', 'y_train196.npy', 'X_train63.npy', 'X_train20.npy', 'y_test52.npy', 'X_test72.npy', 'y_test126.npy', 'y_test45.npy', 'X_train55.npy', 'X_test15.npy', 'X_train101.npy', 'y_test164.npy', 'X_test174.npy', 'y_test192.npy', 'y_test121.npy', 'X_train67.npy', 'X_test34.npy', 'y_test29.npy', 'y_train53.npy', 'y_test8.npy', 'y_test119.npy', 'y_test103.npy', 'y_train3.npy', 'X_test91.npy', 'y_train114.npy', 'y_test133.npy', 'y_train194.npy', 'X_train174.npy', 'X_train35.npy', 'X_train167.npy', 'y_train82.npy', 'y_train80.npy', 'X_test43.npy', 'y_train71.npy', 'y_test152.npy', 'y_test85.npy', 'y_test154.npy', 'X_test78.npy', 'X_test141.npy', 'y_train4.npy', 'y_train168.npy', 'y_test132.npy', 'X_train169.npy', 'X_train97.npy', 'X_test197.npy', 'y_train145.npy', 'y_train97.npy', 'y_test156.npy', 'y_test48.npy', 'X_train192.npy', 'X_train149.npy', 'y_train199.npy', 'X_test196.npy', 'y_test118.npy', 'y_test116.npy', 'y_test88.npy', 'y_train66.npy', 'X_test182.npy', 'y_train148.npy', 'y_train22.npy', 'X_test135.npy', 'y_train182.npy', 'y_train118.npy', 'y_test106.npy', 'y_test58.npy', 'y_train23.npy', 'X_train181.npy', 'y_test67.npy', 'X_train122.npy', 'X_test191.npy', 'y_test127.npy', 'X_test74.npy', 'y_train198.npy', 'X_test90.npy', 'X_train48.npy', 'y_train105.npy', 'X_train94.npy', 'y_train24.npy', 'y_train89.npy', 'y_test99.npy', 'y_test75.npy', 'X_train196.npy', 'X_test32.npy', 'X_test93.npy', 'y_test73.npy', 'X_test44.npy', 'X_train52.npy', 'y_train0.npy', 'y_train155.npy', 'X_train31.npy', 'y_test2.npy', 'X_test42.npy', 'y_test109.npy', 'X_test149.npy', 'X_test60.npy', 'X_test136.npy', 'X_test119.npy', 'y_train73.npy', 'X_train89.npy', 'X_test133.npy', 'X_train92.npy', 'X_train88.npy', 'X_test46.npy', 'X_test120.npy', 'y_test114.npy', 'y_train184.npy', 'X_test57.npy', 'y_test113.npy', 'X_train84.npy', 'y_train149.npy', 'y_test107.npy', 'X_test88.npy', 'X_train65.npy', 'y_test187.npy', 'X_train17.npy', 'X_train47.npy', 'y_test155.npy', 'y_train12.npy', 'X_train43.npy', 'X_test138.npy', 'y_train25.npy', 'y_train125.npy', 'y_train187.npy', 'X_train139.npy', 'y_test22.npy', 'X_train68.npy', 'X_test94.npy', 'X_train145.npy', 'y_train77.npy', 'y_train14.npy', 'y_test110.npy', 'y_train60.npy', 'X_train187.npy', 'y_train79.npy', 'y_test123.npy', 'y_train173.npy', 'X_train138.npy', 'X_train37.npy', 'y_test170.npy', 'X_test108.npy', 'X_test166.npy', 'X_test188.npy', 'X_train176.npy', 'y_train126.npy', 'y_test87.npy', 'X_test79.npy', 'X_test187.npy', 'X_test102.npy', 'y_train95.npy', 'X_test50.npy', 'X_test54.npy', 'y_test168.npy', 'y_train41.npy', 'X_train32.npy', 'y_test60.npy', 'X_train10.npy', 'X_test115.npy', 'y_test4.npy', 'X_train28.npy', 'X_test100.npy', 'X_test95.npy', 'X_train163.npy', 'y_train39.npy', 'y_test62.npy', 'X_test53.npy', 'y_test178.npy', 'X_train170.npy', 'X_test85.npy', 'y_test43.npy', 'y_test70.npy', 'y_test91.npy', 'y_train86.npy', 'y_train130.npy', 'y_train10.npy', 'y_test162.npy', 'X_train175.npy', 'y_test174.npy', 'X_train26.npy', 'X_train153.npy', 'X_train123.npy', 'X_train182.npy', 'y_test167.npy', 'X_train40.npy', 'y_train146.npy', 'X_train64.npy', 'X_test112.npy', 'y_train107.npy', 'X_test162.npy', 'y_train70.npy', 'y_test173.npy', 'X_train155.npy', 'X_test62.npy', 'y_test51.npy', 'y_train171.npy', 'y_test102.npy', 'y_train76.npy', 'y_train55.npy', 'X_train24.npy', 'y_train45.npy', 'y_test166.npy', 'X_train168.npy', 'X_train12.npy', 'y_test0.npy', 'X_train78.npy', 'y_test77.npy', 'y_train54.npy', 'X_train6.npy', 'y_train147.npy', 'y_test183.npy', 'X_train91.npy', 'X_train107.npy', 'y_train180.npy', 'y_train176.npy', 'y_test63.npy', 'X_test40.npy', 'y_train189.npy', 'y_test197.npy', 'y_train100.npy', 'X_test127.npy', 'y_test78.npy', 'X_test26.npy', 'X_train128.npy', 'X_train117.npy', 'y_train142.npy', 'y_train192.npy', 'y_test42.npy', 'y_test82.npy', 'y_train58.npy', 'X_train44.npy', 'X_train109.npy', 'y_train16.npy', 'y_train37.npy', 'X_train58.npy', 'y_test79.npy', 'y_train68.npy', 'X_train173.npy', 'y_train9.npy', 'X_test147.npy', 'X_train189.npy', 'X_train41.npy', 'y_train29.npy', 'y_train48.npy', 'X_train62.npy', 'y_test94.npy', 'y_train123.npy', 'y_test194.npy', 'X_train104.npy', 'X_test99.npy', 'y_train96.npy', 'X_test2.npy', 'X_test10.npy', 'X_train57.npy', 'X_test132.npy', 'y_train128.npy', 'y_train28.npy', 'X_test48.npy', 'y_test97.npy', 'X_test194.npy', 'X_test111.npy', 'X_train105.npy', 'X_test68.npy', 'y_test21.npy', 'y_test158.npy', 'X_test97.npy', 'X_test180.npy', 'X_test36.npy', 'y_train110.npy', 'X_test131.npy', 'y_test160.npy', 'y_train20.npy', 'y_train183.npy', 'X_train13.npy', 'X_test175.npy', 'y_train40.npy', 'y_train134.npy', 'X_test118.npy', 'y_test136.npy', 'y_train43.npy', 'X_test47.npy', 'X_train77.npy', 'X_test167.npy', 'y_train159.npy', 'X_test186.npy', 'y_test141.npy', 'y_test89.npy', 'X_test198.npy', 'y_train133.npy', 'X_test157.npy', 'X_train184.npy', 'X_test154.npy', 'X_test37.npy', 'X_train125.npy', 'y_train137.npy', 'y_train170.npy', 'X_test65.npy', 'y_test93.npy', 'y_train103.npy', 'X_train8.npy', 'X_train96.npy', 'y_train8.npy', 'y_test3.npy', 'y_train181.npy', 'y_train33.npy', 'X_train39.npy', 'X_test124.npy', 'y_test25.npy', 'X_test105.npy', 'X_test183.npy', 'X_train56.npy', 'y_train93.npy', 'X_test185.npy', 'y_train11.npy', 'y_train26.npy', 'y_test147.npy', 'y_train178.npy', 'y_test9.npy', 'y_test151.npy', 'y_test112.npy', 'y_train131.npy', 'X_test49.npy', 'X_train82.npy', 'y_train165.npy', 'X_test21.npy', 'y_train144.npy', 'X_test63.npy', 'X_test190.npy', 'y_test81.npy', 'X_train102.npy', 'y_train158.npy', 'y_test16.npy', 'X_train152.npy', 'y_train49.npy', 'X_test83.npy', 'X_train137.npy', 'X_train87.npy', 'X_train131.npy', 'y_test145.npy', 'y_test128.npy', 'X_test177.npy', 'X_train194.npy', 'X_test27.npy', 'y_test55.npy', 'X_test14.npy', 'X_test129.npy', 'X_train100.npy', 'X_test184.npy', 'X_train136.npy', 'y_test196.npy', 'y_test105.npy', 'y_train161.npy', 'y_test199.npy', 'X_test35.npy', 'X_train143.npy', 'X_test130.npy', 'y_test49.npy', 'X_train127.npy', 'X_test117.npy', 'y_test177.npy', 'y_test98.npy', 'X_test96.npy', 'X_train59.npy', 'y_train50.npy', 'X_train129.npy', 'X_train51.npy', 'y_train21.npy', 'y_test72.npy', 'y_train90.npy', 'X_test25.npy', 'X_train118.npy', 'y_test74.npy', 'y_train177.npy', 'y_test40.npy', 'X_test155.npy', 'y_test38.npy', 'X_test123.npy', 'y_train85.npy', 'X_test142.npy', 'X_test121.npy', 'X_test73.npy', 'y_test64.npy', 'y_train19.npy', 'X_test163.npy', 'y_train190.npy', 'X_train178.npy', 'X_train126.npy', 'X_test17.npy', 'X_test51.npy', 'y_train143.npy', 'y_train6.npy', 'X_test20.npy', 'y_test86.npy', 'X_train141.npy', 'y_train160.npy', 'y_train38.npy', 'y_train185.npy', 'X_test101.npy', 'X_train140.npy', 'y_test95.npy', 'y_train34.npy', 'X_train23.npy', 'X_train110.npy', 'y_train121.npy', 'X_train34.npy', 'X_train144.npy', 'X_train188.npy', 'y_train197.npy', 'X_train93.npy', 'X_train115.npy', 'y_test32.npy', 'y_test149.npy', 'X_test29.npy', 'y_train136.npy', 'X_train197.npy', 'y_train163.npy', 'X_test110.npy', 'X_train120.npy', 'X_test134.npy', 'X_train135.npy', 'X_test113.npy', 'y_train46.npy', 'X_train80.npy', 'X_test69.npy', 'y_train119.npy', 'X_test41.npy', 'X_train30.npy', 'y_test195.npy', 'y_test90.npy', 'X_train36.npy', 'y_test182.npy', 'y_test181.npy', 'X_test75.npy', 'y_train115.npy', 'X_train134.npy', 'X_test153.npy', 'y_train32.npy', 'X_test158.npy', 'y_test186.npy', 'y_test5.npy', 'X_test164.npy', 'y_train157.npy', 'X_test109.npy', 'y_test131.npy', 'y_test33.npy', 'X_train70.npy', 'X_train9.npy', 'X_train98.npy', 'y_test15.npy', 'X_train11.npy', 'y_train84.npy', 'X_train15.npy', 'y_train75.npy', 'y_train101.npy', 'X_test18.npy', 'X_test178.npy', 'X_test56.npy', 'X_train22.npy', 'y_test57.npy', 'y_train47.npy', 'X_train160.npy', 'y_test12.npy', 'X_test106.npy', 'y_test198.npy', 'y_train56.npy', 'y_test69.npy', 'y_train72.npy', 'X_test169.npy', 'y_test17.npy', 'y_train51.npy', 'y_test19.npy', 'X_test168.npy', 'X_train142.npy', 'X_train130.npy', 'y_test115.npy', 'X_test22.npy', 'y_train152.npy', 'y_test71.npy', 'y_test111.npy', 'X_train147.npy', 'X_train113.npy', 'X_test173.npy', 'X_test64.npy', 'X_train46.npy', 'y_train61.npy', 'X_test195.npy', 'X_test107.npy', 'X_train53.npy', 'X_train7.npy']\n"
     ]
    }
   ],
   "source": [
    "trfiles = os.listdir(savedir)\n",
    "print(len(trfiles))\n",
    "print(trfiles)"
   ]
  },
  {
   "cell_type": "code",
   "execution_count": 13,
   "metadata": {
    "collapsed": false
   },
   "outputs": [],
   "source": [
    "X_ex = np.load(savedir+\"X_test.npz\")\n",
    "namelist = X_ex.zip.namelist()\n",
    "X_ex.zip.extract(namelist[0])\n",
    "X_memmap = np.load(namelist[0], mmap_mode='r+')\n",
    "assert np.all(X==X_memmap[:])"
   ]
  },
  {
   "cell_type": "code",
   "execution_count": 15,
   "metadata": {
    "collapsed": false
   },
   "outputs": [
    {
     "data": {
      "text/plain": [
       "(45722, 5, 48, 48)"
      ]
     },
     "execution_count": 15,
     "metadata": {},
     "output_type": "execute_result"
    }
   ],
   "source": [
    "X_memmap.shape"
   ]
  },
  {
   "cell_type": "code",
   "execution_count": 17,
   "metadata": {
    "collapsed": false
   },
   "outputs": [
    {
     "data": {
      "text/plain": [
       "(45722, 1)"
      ]
     },
     "execution_count": 17,
     "metadata": {},
     "output_type": "execute_result"
    }
   ],
   "source": [
    "y_test = np.load(savedir+\"y_array.npy\")\n",
    "y_test.shape"
   ]
  },
  {
   "cell_type": "code",
   "execution_count": null,
   "metadata": {
    "collapsed": true
   },
   "outputs": [],
   "source": [
    "print(X_test.shape)\n",
    "print(y_test.shape)\n",
    "\n",
    "print(X_train.shape)\n",
    "print(y_train.shape)"
   ]
  },
  {
   "cell_type": "code",
   "execution_count": null,
   "metadata": {
    "collapsed": true
   },
   "outputs": [],
   "source": []
  }
 ],
 "metadata": {
  "kernelspec": {
   "display_name": "Python 3",
   "language": "python",
   "name": "python3"
  },
  "language_info": {
   "codemirror_mode": {
    "name": "ipython",
    "version": 3
   },
   "file_extension": ".py",
   "mimetype": "text/x-python",
   "name": "python",
   "nbconvert_exporter": "python",
   "pygments_lexer": "ipython3",
   "version": "3.4.0"
  }
 },
 "nbformat": 4,
 "nbformat_minor": 0
}
