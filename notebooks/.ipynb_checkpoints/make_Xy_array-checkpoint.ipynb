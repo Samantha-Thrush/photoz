{
 "cells": [
  {
   "cell_type": "markdown",
   "metadata": {},
   "source": [
    "## Creating the X and y arrays for cnn.ipynb or similar code ##\n",
    "\n",
    "After running my versions of either fetch_sdss.ipynb or fetch_sdss.py, you will need to create the X and y arrays of the subsequent data.  You will need to specify the folder that contains the .npy files created in the fetch_sdss code (by default, I will assume that it is in the folder named \"result\", as was specified in fetch_sdss).  Once this is specified, the files will be iterated over, the redshift information will be extracted from the .npy file names and put into the 'y' array, and the actual numpy files (image information) will be copied into the 'X' array.  \n",
    "\n",
    "The resulting X and y arrays will be located in a different directory named \"arrays\" that is **NOT** inside of \"result\".\n",
    "#### Importing needed libraries ####"
   ]
  },
  {
   "cell_type": "code",
   "execution_count": 41,
   "metadata": {
    "collapsed": true
   },
   "outputs": [],
   "source": [
    "import os\n",
    "import numpy as np\n",
    "import sys"
   ]
  },
  {
   "cell_type": "markdown",
   "metadata": {},
   "source": [
    "#### Importing future to make up for any python2/3 discrepancies ####\n",
    "This *shouldn't* be an issue."
   ]
  },
  {
   "cell_type": "code",
   "execution_count": 42,
   "metadata": {
    "collapsed": true
   },
   "outputs": [],
   "source": [
    "from __future__ import absolute_import\n",
    "from __future__ import division\n",
    "from __future__ import print_function\n",
    "from __future__ import unicode_literals"
   ]
  },
  {
   "cell_type": "markdown",
   "metadata": {},
   "source": [
    "### *SPECIFY THE IMAGE AND ARRAY PATH HERE* ###"
   ]
  },
  {
   "cell_type": "code",
   "execution_count": 43,
   "metadata": {
    "collapsed": true
   },
   "outputs": [],
   "source": [
    "path = \"../data/result/\"\n",
    "savedir = \"../data/\""
   ]
  },
  {
   "cell_type": "markdown",
   "metadata": {},
   "source": [
    "#### Get the list of all of the files you need ####"
   ]
  },
  {
   "cell_type": "code",
   "execution_count": 44,
   "metadata": {
    "collapsed": false
   },
   "outputs": [
    {
     "name": "stdout",
     "output_type": "stream",
     "text": [
      "232\n"
     ]
    }
   ],
   "source": [
    "npfiles = os.listdir(path)\n",
    "print(len(npfiles))"
   ]
  },
  {
   "cell_type": "markdown",
   "metadata": {},
   "source": [
    "#### Initializing the numpy arrays ####"
   ]
  },
  {
   "cell_type": "code",
   "execution_count": 45,
   "metadata": {
    "collapsed": true
   },
   "outputs": [],
   "source": [
    "X = np.zeros((len(npfiles), 5, 48, 48))\n",
    "y = np.zeros((len(npfiles), 1))"
   ]
  },
  {
   "cell_type": "markdown",
   "metadata": {},
   "source": [
    "#### Filling the arrays ####"
   ]
  },
  {
   "cell_type": "code",
   "execution_count": 46,
   "metadata": {
    "collapsed": false
   },
   "outputs": [],
   "source": [
    "s = 0\n",
    "for file in npfiles:\n",
    "    image = np.load(path + file)\n",
    "    X[s,:,:,:] = image[:,:,:]\n",
    "    num = file[:10]\n",
    "    y[s] = float(num)\n",
    "    s+=1"
   ]
  },
  {
   "cell_type": "code",
   "execution_count": 47,
   "metadata": {
    "collapsed": false
   },
   "outputs": [],
   "source": [
    "np.save(savedir+\"X_array\", X)\n",
    "np.save(savedir+\"y_array\", y)"
   ]
  },
  {
   "cell_type": "code",
   "execution_count": null,
   "metadata": {
    "collapsed": true
   },
   "outputs": [],
   "source": []
  }
 ],
 "metadata": {
  "kernelspec": {
   "display_name": "Python 3",
   "language": "python",
   "name": "python3"
  },
  "language_info": {
   "codemirror_mode": {
    "name": "ipython",
    "version": 3
   },
   "file_extension": ".py",
   "mimetype": "text/x-python",
   "name": "python",
   "nbconvert_exporter": "python",
   "pygments_lexer": "ipython3",
   "version": "3.4.0"
  }
 },
 "nbformat": 4,
 "nbformat_minor": 0
}
